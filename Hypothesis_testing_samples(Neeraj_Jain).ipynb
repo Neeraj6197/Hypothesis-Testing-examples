{
  "nbformat": 4,
  "nbformat_minor": 0,
  "metadata": {
    "colab": {
      "provenance": []
    },
    "kernelspec": {
      "name": "python3",
      "display_name": "Python 3"
    },
    "language_info": {
      "name": "python"
    }
  },
  "cells": [
    {
      "cell_type": "markdown",
      "source": [
        "# HYPOTHESIS TESTING \n",
        "- Hypothesis testing is a statistical method used to evaluate whether an observed data sample is consistent with a hypothesis or a null hypothesis. The null hypothesis is typically a statement that assumes there is no difference or relationship between two or more variables, while the alternative hypothesis is the opposite, suggesting there is a difference or relationship.\n",
        "\n",
        "- To perform hypothesis testing, a statistical test is conducted using the data to calculate a test statistic, such as a t-score or p-value, which measures the probability of observing the data if the null hypothesis is true. If the p-value is less than a predetermined significance level, typically 0.05, then the null hypothesis is rejected, and the alternative hypothesis is supported.\n",
        "\n"
      ],
      "metadata": {
        "id": "gQu_YeBMi8R3"
      }
    },
    {
      "cell_type": "code",
      "source": [
        "# NOTE:\n",
        "# significance value(alpha) is either 0.05/0.01\n",
        "# pvalue > significance value --> accept the null hypothesis else reject"
      ],
      "metadata": {
        "id": "BhKEtmEC-nUv"
      },
      "execution_count": null,
      "outputs": []
    },
    {
      "cell_type": "code",
      "source": [
        "import numpy as np\n",
        "import scipy.stats\n",
        "from scipy.stats import t"
      ],
      "metadata": {
        "id": "JDXqFETiSgfZ"
      },
      "execution_count": null,
      "outputs": []
    },
    {
      "cell_type": "markdown",
      "source": [
        "## Confidence Interval\n",
        "-A confidence interval is a range of values that is likely to contain the true value of a population parameter with a certain degree of confidence.\n",
        "\n",
        "The formula for calculating a confidence interval for a population mean is:\n",
        "\n",
        "CI = X ± Z * (s / sqrt(n))\n",
        "\n",
        "where:\n",
        "\n",
        "-CI is the confidence interval\n",
        "\n",
        "-X is the sample mean\n",
        "\n",
        "-Z is the z-score for the desired level of confidence (e.g., 1.96 for a 95% confidence interval)\n",
        "\n",
        "-s is the sample standard deviation\n",
        "\n",
        "-n is the sample size"
      ],
      "metadata": {
        "id": "3-0emWi3-_-c"
      }
    },
    {
      "cell_type": "code",
      "source": [
        "#taking an example array:\n",
        "arr = np.array([78 ,65 ,20 ,69 ,36 ,81 ,85 ,71 ,44 ,71 ,47 ,37 ,89 ,25 ,73 ,55 ,80 ,52 ,46,77])"
      ],
      "metadata": {
        "id": "ilvzOtsOtX5G"
      },
      "execution_count": null,
      "outputs": []
    },
    {
      "cell_type": "code",
      "source": [
        "#using formula:\n",
        "X = np.mean(arr)\n",
        "Z = 1.96\n",
        "s = np.std(arr)\n",
        "n = len(arr)\n",
        "\n",
        "CI1 = X - Z*(s/np.sqrt(n))\n",
        "CI2 = X + Z*(s/np.sqrt(n))\n",
        "print(CI1,CI2)"
      ],
      "metadata": {
        "id": "T9K9kFKivFFT",
        "colab": {
          "base_uri": "https://localhost:8080/"
        },
        "outputId": "6285e5ea-5439-488b-d5f1-59e22c3f612c"
      },
      "execution_count": null,
      "outputs": [
        {
          "output_type": "stream",
          "name": "stdout",
          "text": [
            "51.24255838509275 68.85744161490724\n"
          ]
        }
      ]
    },
    {
      "cell_type": "code",
      "source": [
        "#using scipy library:\n",
        "sc = scipy.stats.sem(arr) #calculating standard error\n",
        "# getting 95% confidence interval\n",
        "t_val = t.interval(confidence=0.95,df=(n-1),loc=X,scale=sc)\n",
        "t_val"
      ],
      "metadata": {
        "colab": {
          "base_uri": "https://localhost:8080/"
        },
        "id": "57wYKZdiu00l",
        "outputId": "ee5a89d1-9a62-4168-b3dd-796201700117"
      },
      "execution_count": null,
      "outputs": [
        {
          "output_type": "execute_result",
          "data": {
            "text/plain": [
              "(50.400470937660145, 69.69952906233985)"
            ]
          },
          "metadata": {},
          "execution_count": 10
        }
      ]
    },
    {
      "cell_type": "code",
      "source": [],
      "metadata": {
        "id": "wB12uj0uwTeY"
      },
      "execution_count": null,
      "outputs": []
    },
    {
      "cell_type": "markdown",
      "source": [
        "## Shapiro\n",
        "- to check if sample has normal distribution we use shapiro test , if pval>0.05 the data can be normaly distributed, else not."
      ],
      "metadata": {
        "id": "KO7LK-Bv-5UE"
      }
    },
    {
      "cell_type": "code",
      "source": [
        "#using built in module:\n",
        "from scipy.stats import shapiro\n",
        "shapiro(arr) "
      ],
      "metadata": {
        "colab": {
          "base_uri": "https://localhost:8080/"
        },
        "id": "acUf4usl663S",
        "outputId": "9d667b27-10b6-45d3-a327-f7935d2ffa9f"
      },
      "execution_count": null,
      "outputs": [
        {
          "output_type": "execute_result",
          "data": {
            "text/plain": [
              "ShapiroResult(statistic=0.9377500414848328, pvalue=0.21734236180782318)"
            ]
          },
          "metadata": {},
          "execution_count": 11
        }
      ]
    },
    {
      "cell_type": "markdown",
      "source": [
        "Here pvalue is more than 0.05, thus our array can be normally distributed."
      ],
      "metadata": {
        "id": "Cl4H4JUvVX2j"
      }
    },
    {
      "cell_type": "code",
      "source": [],
      "metadata": {
        "id": "O0zwcIdqVf5F"
      },
      "execution_count": null,
      "outputs": []
    },
    {
      "cell_type": "markdown",
      "source": [
        "##Z test (when we have pop std available):\n",
        "- A z-test is a statistical test that compares a sample mean to a known population mean when the population standard deviation is known. It is used to determine whether the difference between the sample mean and the population mean is statistically significant.\n",
        "\n",
        "- The formula for calculating the z-score is:\n",
        "\n",
        "   z = (X - μ) / (σ / sqrt(n))\n",
        "\n",
        "   where:\n",
        "\n",
        "X is the sample mean\n",
        "\n",
        "μ is the population mean\n",
        "\n",
        "σ is the population standard deviation\n",
        "\n",
        "n is the sample size\n",
        "\n",
        "-If the absolute value of the z-score is greater than the critical value for a given level of significance (e.g., 1.96 for a 95% confidence interval), then we can reject the null hypothesis and conclude that the sample mean is statistically significantly different from the population mean."
      ],
      "metadata": {
        "id": "iA18WeH7-w8-"
      }
    },
    {
      "cell_type": "code",
      "source": [
        "#importing ztest:\n",
        "from statsmodels.stats.weightstats import ztest"
      ],
      "metadata": {
        "id": "YsAG-Ko6z4pk"
      },
      "execution_count": null,
      "outputs": []
    },
    {
      "cell_type": "code",
      "source": [
        "#creating a population array\n",
        "pop = np.random.uniform(0,50,size=(50))\n",
        "pop"
      ],
      "metadata": {
        "id": "Ic1JZHe_xakd",
        "colab": {
          "base_uri": "https://localhost:8080/"
        },
        "outputId": "a8a02125-20c5-4dd8-d629-98c4d17ecdad"
      },
      "execution_count": null,
      "outputs": [
        {
          "output_type": "execute_result",
          "data": {
            "text/plain": [
              "array([32.74604246, 33.56518868, 43.50795015, 45.50614668, 38.8306301 ,\n",
              "       22.20365074, 47.50829914, 23.27547057, 37.47812872, 41.60528632,\n",
              "       44.85228347, 16.49288566, 40.3834803 , 30.52390039, 44.81210912,\n",
              "       33.67518587, 12.79291627,  6.23261258, 49.39945951, 32.95685744,\n",
              "        0.65689254, 49.10668004, 37.58585442,  7.73867263, 36.82612653,\n",
              "       33.86925638,  9.45873698, 28.94881697, 15.21290017, 24.38346338,\n",
              "       15.90480788, 44.48180982,  2.44119756, 26.67762388,  7.78469611,\n",
              "       32.67353678, 26.50769285,  4.56499116,  3.38449021, 38.49501697,\n",
              "       29.11635786, 37.25719946, 44.90976652, 32.15207807, 35.98638424,\n",
              "       28.82627884,  7.77957377, 31.84726721, 14.87935178, 12.12519745])"
            ]
          },
          "metadata": {},
          "execution_count": 24
        }
      ]
    },
    {
      "cell_type": "code",
      "source": [
        "#randomly selecting sample from pop array:\n",
        "Sample = np.random.choice(pop,size=30)\n",
        "Sample"
      ],
      "metadata": {
        "colab": {
          "base_uri": "https://localhost:8080/"
        },
        "id": "bRLPMW5KXpAz",
        "outputId": "4c41ca5f-66dc-44b8-b534-bae766baa06d"
      },
      "execution_count": null,
      "outputs": [
        {
          "output_type": "execute_result",
          "data": {
            "text/plain": [
              "array([43.50795015, 44.90976652, 35.98638424, 23.27547057,  7.77957377,\n",
              "       24.38346338, 29.11635786, 22.20365074, 38.49501697, 31.84726721,\n",
              "        7.77957377, 32.67353678,  6.23261258,  9.45873698,  7.77957377,\n",
              "       30.52390039, 44.81210912, 49.10668004,  4.56499116, 44.48180982,\n",
              "       29.11635786, 40.3834803 ,  7.73867263, 45.50614668, 15.90480788,\n",
              "       28.94881697, 37.25719946, 43.50795015, 33.56518868,  6.23261258])"
            ]
          },
          "metadata": {},
          "execution_count": 25
        }
      ]
    },
    {
      "cell_type": "code",
      "source": [
        "#using the formula:\n",
        "X = np.mean(Sample)\n",
        "mu = np.mean(pop)\n",
        "s = np.std(pop)\n",
        "n = len(Sample)\n",
        "\n",
        "#formula:\n",
        "z = (X - mu) / (s / np.sqrt(n))\n",
        "z"
      ],
      "metadata": {
        "id": "daWAjVEIxlKX",
        "colab": {
          "base_uri": "https://localhost:8080/"
        },
        "outputId": "e98ca61c-db83-428b-f2d0-78eeea8e72fc"
      },
      "execution_count": null,
      "outputs": [
        {
          "output_type": "execute_result",
          "data": {
            "text/plain": [
              "-0.16701890401142058"
            ]
          },
          "metadata": {},
          "execution_count": 28
        }
      ]
    },
    {
      "cell_type": "code",
      "source": [
        "#getting z score and pvalue using scipy ztest\n",
        "zsc,pval = ztest(Sample,value=mu)\n",
        "print(zsc,pval)"
      ],
      "metadata": {
        "colab": {
          "base_uri": "https://localhost:8080/"
        },
        "id": "Iu8KB88z1p3K",
        "outputId": "eeadcf2f-1668-4132-d692-7728526bb43f"
      },
      "execution_count": null,
      "outputs": [
        {
          "output_type": "stream",
          "name": "stdout",
          "text": [
            "-0.16015770562560863 0.872756845272247\n"
          ]
        }
      ]
    },
    {
      "cell_type": "code",
      "source": [],
      "metadata": {
        "id": "Hpu4PHoTbezy"
      },
      "execution_count": null,
      "outputs": []
    },
    {
      "cell_type": "markdown",
      "source": [
        "## 1 sample T test\n",
        "- A one-sample t-test is used to determine whether a sample mean is significantly different from a hypothesized population mean when the population standard deviation is not known. The t-test is a statistical test that compares the mean of a sample to a known value or hypothesized population mean.\n",
        "\n",
        "- Formula:\n",
        "\n",
        "  t = (x̄ - μ) / (s / sqrt(n))\n",
        "\n",
        "Where:\n",
        "\n",
        "x̄ is the sample mean\n",
        "\n",
        "μ is the hypothesized population mean\n",
        "\n",
        "s is the sample standard deviation\n",
        "\n",
        "n is the sample size"
      ],
      "metadata": {
        "id": "5eTpOk8l-1bm"
      }
    },
    {
      "cell_type": "code",
      "source": [
        "#creating a population array\n",
        "pop = np.random.uniform(0,50,size=(50))\n",
        "pop"
      ],
      "metadata": {
        "id": "1vH684dQ13Jm",
        "colab": {
          "base_uri": "https://localhost:8080/"
        },
        "outputId": "5a00acae-deb0-449e-cc5d-01bd6475d21d"
      },
      "execution_count": null,
      "outputs": [
        {
          "output_type": "execute_result",
          "data": {
            "text/plain": [
              "array([ 5.18036289,  1.11277454,  0.96467437, 29.34713621, 47.74696878,\n",
              "       25.89987369, 12.47829944, 35.56420211, 44.82387921, 21.59886285,\n",
              "       46.51837308, 49.82584427, 46.37285163, 10.36310353, 40.54238469,\n",
              "       48.42552787,  4.98772717, 42.75864617, 33.09138446, 45.65280508,\n",
              "       38.5191423 , 35.94388045,  1.65996516,  8.5997978 , 30.38039978,\n",
              "       20.33068123, 33.84763756,  8.52579212, 11.64226606, 31.36255499,\n",
              "       28.49794178, 20.39327941, 39.56176362, 27.49154006, 45.18582971,\n",
              "        2.23302955, 21.999271  , 20.63344138, 15.10922416, 23.97528398,\n",
              "       47.07243369, 29.92872407, 22.85556021,  5.38556096, 27.73661023,\n",
              "       39.99725439, 19.82553468, 30.18148773,  3.0918093 ,  4.91344648])"
            ]
          },
          "metadata": {},
          "execution_count": 31
        }
      ]
    },
    {
      "cell_type": "code",
      "source": [
        "#randomly selecting sample from pop array:\n",
        "Sample = np.random.choice(pop,size=30)\n",
        "Sample"
      ],
      "metadata": {
        "colab": {
          "base_uri": "https://localhost:8080/"
        },
        "id": "9VKwTTRyb6Id",
        "outputId": "8f093f6a-010f-4303-bbaf-593d6dff0887"
      },
      "execution_count": null,
      "outputs": [
        {
          "output_type": "execute_result",
          "data": {
            "text/plain": [
              "array([19.82553468,  3.0918093 , 31.36255499, 20.63344138, 39.56176362,\n",
              "       39.56176362, 20.63344138, 44.82387921, 33.84763756, 48.42552787,\n",
              "       27.73661023, 39.56176362, 44.82387921, 12.47829944, 39.99725439,\n",
              "       25.89987369, 38.5191423 , 40.54238469, 27.49154006, 45.65280508,\n",
              "       29.34713621, 27.73661023, 10.36310353, 45.18582971, 42.75864617,\n",
              "       44.82387921, 29.34713621, 49.82584427,  2.23302955,  4.98772717])"
            ]
          },
          "metadata": {},
          "execution_count": 32
        }
      ]
    },
    {
      "cell_type": "code",
      "source": [
        "x = np.mean(Sample)\n",
        "mu = np.mean(pop)\n",
        "s = np.std(Sample)\n",
        "n = len(Sample)"
      ],
      "metadata": {
        "id": "x2-97CLN2Vr-"
      },
      "execution_count": null,
      "outputs": []
    },
    {
      "cell_type": "code",
      "source": [
        "#using formula:\n",
        "t = (x - mu) / (s / np.sqrt(n))\n",
        "t"
      ],
      "metadata": {
        "colab": {
          "base_uri": "https://localhost:8080/"
        },
        "id": "ghFYLMlEcU5i",
        "outputId": "734da491-ef94-4e87-c6b8-d3df52002f52"
      },
      "execution_count": null,
      "outputs": [
        {
          "output_type": "execute_result",
          "data": {
            "text/plain": [
              "2.0796521700566624"
            ]
          },
          "metadata": {},
          "execution_count": 38
        }
      ]
    },
    {
      "cell_type": "code",
      "source": [
        "#importing ttest_1samp\n",
        "from scipy.stats import ttest_1samp"
      ],
      "metadata": {
        "id": "IeW9lwr-6Oeh"
      },
      "execution_count": null,
      "outputs": []
    },
    {
      "cell_type": "code",
      "source": [
        "#getting t stats\n",
        "ttest_1samp(Sample,mu)"
      ],
      "metadata": {
        "colab": {
          "base_uri": "https://localhost:8080/"
        },
        "id": "xJaYoyM461eG",
        "outputId": "87153af1-1271-4ae0-828a-f711b9ce430c"
      },
      "execution_count": null,
      "outputs": [
        {
          "output_type": "execute_result",
          "data": {
            "text/plain": [
              "TtestResult(statistic=2.0446975432748005, pvalue=0.05005580140504867, df=29)"
            ]
          },
          "metadata": {},
          "execution_count": 37
        }
      ]
    },
    {
      "cell_type": "code",
      "source": [
        "# incase of one tailed pvalue*2 is the pvalue"
      ],
      "metadata": {
        "id": "kThe9jnw_v9t"
      },
      "execution_count": null,
      "outputs": []
    },
    {
      "cell_type": "code",
      "source": [],
      "metadata": {
        "id": "PykLU5KjcwW-"
      },
      "execution_count": null,
      "outputs": []
    },
    {
      "cell_type": "markdown",
      "source": [
        "##Independent 2 sample T test\n",
        "- An independent two-sample t-test is used to determine whether the means of two independent groups are significantly different from each other. The two groups should be independent of each other, meaning that the observations in one group are not related to the observations in the other group."
      ],
      "metadata": {
        "id": "WIMWZuWl_RQ9"
      }
    },
    {
      "cell_type": "code",
      "source": [
        "#creating two arrays:\n",
        "arr1 = np.array([5,3,3,5,5,6,6,7,3,8])\n",
        "arr2 = np.array([6,7,9,3,6,5,4,2,6,8])"
      ],
      "metadata": {
        "id": "Va7JX0x1AYaj"
      },
      "execution_count": null,
      "outputs": []
    },
    {
      "cell_type": "code",
      "source": [
        "#checking normality using shapiro\n",
        "s1 = shapiro(arr1)\n",
        "s2= shapiro(arr2)\n",
        "print(s1)\n",
        "print(s2)"
      ],
      "metadata": {
        "colab": {
          "base_uri": "https://localhost:8080/"
        },
        "id": "fOtu5v2VAYWS",
        "outputId": "778d4184-bfa4-4bd0-9595-2e6b6aa8c09e"
      },
      "execution_count": null,
      "outputs": [
        {
          "output_type": "stream",
          "name": "stdout",
          "text": [
            "ShapiroResult(statistic=0.910980761051178, pvalue=0.28779593110084534)\n",
            "ShapiroResult(statistic=0.9741122126579285, pvalue=0.926135778427124)\n"
          ]
        }
      ]
    },
    {
      "cell_type": "code",
      "source": [
        "#checking if the variance is same using LEVENE test where if pval>0.05 the var is same else not\n",
        "from scipy.stats import levene\n",
        "l = levene(arr1,arr2)\n",
        "l"
      ],
      "metadata": {
        "colab": {
          "base_uri": "https://localhost:8080/"
        },
        "id": "x62hzMPN9xsi",
        "outputId": "68f88019-0ae5-4a5b-b0bc-dab21e39bed0"
      },
      "execution_count": null,
      "outputs": [
        {
          "output_type": "execute_result",
          "data": {
            "text/plain": [
              "LeveneResult(statistic=0.2842105263157895, pvalue=0.600475751924876)"
            ]
          },
          "metadata": {},
          "execution_count": 41
        }
      ]
    },
    {
      "cell_type": "code",
      "source": [
        "#performing the t test for 2 samples:\n",
        "from scipy.stats import ttest_ind\n",
        "ttest_ind(arr1,arr2,equal_var=True)"
      ],
      "metadata": {
        "colab": {
          "base_uri": "https://localhost:8080/"
        },
        "id": "FBEmLej1Chyg",
        "outputId": "2188a68a-4670-4b44-d66c-597f5ddf5f88"
      },
      "execution_count": null,
      "outputs": [
        {
          "output_type": "execute_result",
          "data": {
            "text/plain": [
              "Ttest_indResult(statistic=-0.5698028822981898, pvalue=0.5758546679640382)"
            ]
          },
          "metadata": {},
          "execution_count": 42
        }
      ]
    },
    {
      "cell_type": "markdown",
      "source": [
        "- Since the p-value is greater than 0.05, we fail to reject the null hypothesis and conclude that there is insufficient evidence to suggest that the means of the two samples are different at the 95% confidence level."
      ],
      "metadata": {
        "id": "tQ1zO_Ivdsil"
      }
    },
    {
      "cell_type": "markdown",
      "source": [
        "## 2 sample dependent t test (Paired T test)\n",
        "- A paired t-test is used to determine whether there is a significant difference between the means of two related groups. "
      ],
      "metadata": {
        "id": "6HENlr-kD_eV"
      }
    },
    {
      "cell_type": "code",
      "source": [
        "# Importing library\n",
        "import scipy.stats as stats\n",
        "  \n",
        "# pre holds the mileage before \n",
        "# applying the different engine oil\n",
        "pre = [30, 31, 34, 40, 36, 35,\n",
        "       34, 30, 28, 29]\n",
        "  \n",
        "# post holds the mileage after \n",
        "# applying the different engine oil\n",
        "post = [30, 31, 32, 38, 32, 31,\n",
        "        32, 29, 28, 30]\n",
        "  \n",
        "# Performing the paired sample t-test\n",
        "stats.ttest_rel(pre, post)"
      ],
      "metadata": {
        "colab": {
          "base_uri": "https://localhost:8080/"
        },
        "id": "TCQGzSicDjNP",
        "outputId": "9be257d1-9724-4272-f395-6c19dc7d1533"
      },
      "execution_count": null,
      "outputs": [
        {
          "output_type": "execute_result",
          "data": {
            "text/plain": [
              "TtestResult(statistic=2.584921310565987, pvalue=0.029457853822895275, df=9)"
            ]
          },
          "metadata": {},
          "execution_count": 43
        }
      ]
    },
    {
      "cell_type": "markdown",
      "source": [
        "- Since the p-value is less than 0.05, we reject the null hypothesis and conclude that there is sufficient evidence to suggest that the means of the two samples are different at the 95% confidence level."
      ],
      "metadata": {
        "id": "uXWvrS8QeOXG"
      }
    },
    {
      "cell_type": "code",
      "source": [],
      "metadata": {
        "id": "FiXrzhkREEwg"
      },
      "execution_count": null,
      "outputs": []
    },
    {
      "cell_type": "markdown",
      "source": [
        "# F-test\n",
        "- An F-test is a statistical hypothesis test that is used to compare the variances of two samples or the ratio of variances between two populations. The F-test is based on the F-distribution, which is a continuous probability distribution that arises in the analysis of variance (ANOVA) and regression."
      ],
      "metadata": {
        "id": "lN1hlz36e6iI"
      }
    },
    {
      "cell_type": "code",
      "source": [
        "from scipy.stats import f_oneway\n",
        "\n",
        "# create three samples\n",
        "sample1 = np.array([1, 2, 3, 4, 5])\n",
        "sample2 = np.array([2, 4, 6, 8, 10])\n",
        "sample3 = np.array([3, 6, 9, 12, 15])\n",
        "\n",
        "# perform F-test\n",
        "f_statistic, p_value = f_oneway(sample1, sample2, sample3)\n",
        "\n",
        "# print results\n",
        "print(\"F-statistic:\", f_statistic)\n",
        "print(\"p-value:\", p_value)"
      ],
      "metadata": {
        "id": "RM7UT69FZ1SQ",
        "colab": {
          "base_uri": "https://localhost:8080/"
        },
        "outputId": "bd9f2bc7-2217-41ba-9a07-ac6232e9d190"
      },
      "execution_count": null,
      "outputs": [
        {
          "output_type": "stream",
          "name": "stdout",
          "text": [
            "F-statistic: 3.857142857142857\n",
            "p-value: 0.05086290933139865\n"
          ]
        }
      ]
    },
    {
      "cell_type": "markdown",
      "source": [
        "- If the F-statistic is larger than the p-value, it means that the observed variability between groups is larger than would be expected by chance, and the null hypothesis of equal means across all groups is rejected at the chosen level of significance."
      ],
      "metadata": {
        "id": "idOssoWPhcPu"
      }
    },
    {
      "cell_type": "code",
      "source": [],
      "metadata": {
        "id": "ImMWpUecfCKz"
      },
      "execution_count": null,
      "outputs": []
    },
    {
      "cell_type": "markdown",
      "source": [
        "# ANOVA test:\n",
        "\n",
        "- ANOVA stands for Analysis of Variance. It is a statistical method used to compare means of two or more groups to determine whether there is a significant difference between them.\n",
        " -  The F-test is used in ANOVA to test the null hypothesis that the means of all groups are equal."
      ],
      "metadata": {
        "id": "i-klzZScfVah"
      }
    },
    {
      "cell_type": "code",
      "source": [
        "import scipy.stats as stats\n",
        "\n",
        "# Generate some sample data\n",
        "group1 = [1, 2, 3, 4, 5]\n",
        "group2 = [2, 4, 6, 8, 10]\n",
        "group3 = [3, 6, 9, 12, 15]\n",
        "\n",
        "# Perform one-way ANOVA\n",
        "f_statistic, p_value = stats.f_oneway(group1, group2, group3)\n",
        "\n",
        "# Print the results\n",
        "print(\"F-statistic:\", f_statistic)\n",
        "print(\"p-value:\", p_value)"
      ],
      "metadata": {
        "colab": {
          "base_uri": "https://localhost:8080/"
        },
        "id": "P2TWcO7agD_a",
        "outputId": "235e8aab-87ba-40b3-bf0b-a2921ff24476"
      },
      "execution_count": null,
      "outputs": [
        {
          "output_type": "stream",
          "name": "stdout",
          "text": [
            "F-statistic: 3.857142857142857\n",
            "p-value: 0.05086290933139865\n"
          ]
        }
      ]
    },
    {
      "cell_type": "markdown",
      "source": [
        "- If the F-statistic is larger than the p-value, it means that the observed variability between groups is larger than would be expected by chance, and the null hypothesis of equal means across all groups is rejected at the chosen level of significance."
      ],
      "metadata": {
        "id": "f6y8lBIGhZzt"
      }
    },
    {
      "cell_type": "code",
      "source": [],
      "metadata": {
        "id": "yX8CVH4cgK1r"
      },
      "execution_count": null,
      "outputs": []
    },
    {
      "cell_type": "markdown",
      "source": [
        "#Chi-Square test:\n",
        "\n",
        "- The Chi-Square test is a statistical test used to determine if there is a significant association between two categorical variables. It is a non-parametric test, meaning that it does not make any assumptions about the distribution of the data.\n",
        "\n",
        "- The formula for the Chi-Square test statistic is:\n",
        "\n",
        "   χ^2 = Σ [(Oi - Ei)^2 / Ei]\n",
        "\n",
        "   - where χ^2 is the test statistic, Oi is the observed frequency for category i, Ei is the expected frequency for category i (based on the assumption of independence), and the summation is taken over all categories"
      ],
      "metadata": {
        "id": "P_vm3K6QgPj3"
      }
    },
    {
      "cell_type": "code",
      "source": [
        "import scipy.stats as stats\n",
        "\n",
        "# Create a contingency table of observed frequencies\n",
        "observed = [[10, 20, 30],\n",
        "            [20, 30, 40]]\n",
        "\n",
        "# Perform Chi-Square test\n",
        "chi2_statistic, p_value, degrees_of_freedom, expected = stats.chi2_contingency(observed)\n",
        "\n",
        "# Print the results\n",
        "print(\"Chi-Square statistic:\", chi2_statistic)\n",
        "print(\"p-value:\", p_value)\n",
        "print(\"Degrees of freedom:\", degrees_of_freedom)\n",
        "print(\"Expected frequencies:\", expected)\n"
      ],
      "metadata": {
        "colab": {
          "base_uri": "https://localhost:8080/"
        },
        "id": "BSWwx07hgVdV",
        "outputId": "d938559d-866c-4135-9dab-74c5aa879737"
      },
      "execution_count": null,
      "outputs": [
        {
          "output_type": "stream",
          "name": "stdout",
          "text": [
            "Chi-Square statistic: 0.7936507936507936\n",
            "p-value: 0.6724514275370008\n",
            "Degrees of freedom: 2\n",
            "Expected frequencies: [[12. 20. 28.]\n",
            " [18. 30. 42.]]\n"
          ]
        }
      ]
    },
    {
      "cell_type": "markdown",
      "source": [
        "- If the Chi-Square statistic is larger than the p-value, it means that the observed data has a larger deviation from the expected data than would be expected by chance, and the null hypothesis of independence between the two categorical variables is rejected at the chosen level of significance."
      ],
      "metadata": {
        "id": "HC-_KswahMon"
      }
    },
    {
      "cell_type": "code",
      "source": [],
      "metadata": {
        "id": "Ylgp8nYLgu5a"
      },
      "execution_count": null,
      "outputs": []
    }
  ]
}